{
  "nbformat": 4,
  "nbformat_minor": 0,
  "metadata": {
    "colab": {
      "provenance": []
    },
    "kernelspec": {
      "name": "python3",
      "display_name": "Python 3"
    },
    "language_info": {
      "name": "python"
    }
  },
  "cells": [
    {
      "cell_type": "code",
      "source": [
        "#1.\n",
        "import itertools\n",
        "\n",
        "variables = ['a', 'b', 'c']\n",
        "\n",
        "def knowledge_base(assignment):\n",
        "    a = assignment['a']\n",
        "    b = assignment['b']\n",
        "    c = assignment['c']\n",
        "    return (not a or b) and (not b or not a) and (a or c)\n",
        "\n",
        "def hypothesis(assignment):\n",
        "    a = assignment['a']\n",
        "    b = assignment['b']\n",
        "    c = assignment['c']\n",
        "    return not b or c\n",
        "\n",
        "def validate_implication():\n",
        "    all_possible_assignments = list(itertools.product([False, True], repeat=3))\n",
        "\n",
        "    truth_assignments = [dict(zip(variables, assignment)) for assignment in all_possible_assignments]\n",
        "\n",
        "    for assignment in truth_assignments:\n",
        "        if knowledge_base(assignment):\n",
        "            if not hypothesis(assignment):\n",
        "                return False\n",
        "\n",
        "    return True\n",
        "\n",
        "\n",
        "if validate_implication():\n",
        "    print(\"The knowledge base implies the hypothesis.\")\n",
        "else:\n",
        "    print(\"The knowledge base does not imply the hypothesis.\")\n",
        "\n"
      ],
      "metadata": {
        "colab": {
          "base_uri": "https://localhost:8080/"
        },
        "id": "wMh5q6ZVp1FU",
        "outputId": "10dfd411-6cfc-4a30-8963-65027f0ba9d1"
      },
      "execution_count": 18,
      "outputs": [
        {
          "output_type": "stream",
          "name": "stdout",
          "text": [
            "The knowledge base implies the hypothesis.\n"
          ]
        }
      ]
    },
    {
      "cell_type": "code",
      "source": [
        "#2.\n",
        "import itertools\n",
        "\n",
        "variables = ['a', 'b', 'c']\n",
        "\n",
        "def knowledge_base(assignment):\n",
        "    a = assignment['a']\n",
        "    b = assignment['b']\n",
        "    c = assignment['c']\n",
        "    return (not a or b) and (not b or not a) and (a or c)\n",
        "\n",
        "def hypothesis(assignment):\n",
        "    a = assignment['a']\n",
        "    b = assignment['b']\n",
        "    c = assignment['c']\n",
        "    return c\n",
        "\n",
        "def validate_implication():\n",
        "    all_possible_assignments = list(itertools.product([False, True], repeat=3))\n",
        "\n",
        "    truth_assignments = [dict(zip(variables, assignment)) for assignment in all_possible_assignments]\n",
        "\n",
        "    for assignment in truth_assignments:\n",
        "        if knowledge_base(assignment):\n",
        "            if not hypothesis(assignment):\n",
        "                return False\n",
        "\n",
        "    return True\n",
        "\n",
        "\n",
        "if validate_implication():\n",
        "    print(\"The knowledge base implies the hypothesis.\")\n",
        "else:\n",
        "    print(\"The knowledge base does not imply the hypothesis.\")\n"
      ],
      "metadata": {
        "colab": {
          "base_uri": "https://localhost:8080/"
        },
        "id": "zH_hAqAHtaWs",
        "outputId": "63a20042-755e-4786-bbd3-660f5434b9ac"
      },
      "execution_count": 17,
      "outputs": [
        {
          "output_type": "stream",
          "name": "stdout",
          "text": [
            "The knowledge base implies the hypothesis.\n"
          ]
        }
      ]
    },
    {
      "cell_type": "code",
      "source": [
        "#3.\n",
        "import itertools\n",
        "\n",
        "variables = ['a', 'b', 'c']\n",
        "\n",
        "def knowledge_base(assignment):\n",
        "    a = assignment['a']\n",
        "    b = assignment['b']\n",
        "    c = assignment['c']\n",
        "    return (not a or b) and (not b or not a) and (a or c)\n",
        "\n",
        "def hypothesis(assignment):\n",
        "    a = assignment['a']\n",
        "    b = assignment['b']\n",
        "    c = assignment['c']\n",
        "    return not c or a\n",
        "\n",
        "def validate_implication():\n",
        "    all_possible_assignments = list(itertools.product([False, True], repeat=3))\n",
        "\n",
        "    truth_assignments = [dict(zip(variables, assignment)) for assignment in all_possible_assignments]\n",
        "\n",
        "    for assignment in truth_assignments:\n",
        "        if knowledge_base(assignment):\n",
        "            if not hypothesis(assignment):\n",
        "                return False\n",
        "\n",
        "    return True\n",
        "\n",
        "\n",
        "if validate_implication():\n",
        "    print(\"The knowledge base implies the hypothesis.\")\n",
        "else:\n",
        "    print(\"The knowledge base does not imply the hypothesis.\")\n"
      ],
      "metadata": {
        "colab": {
          "base_uri": "https://localhost:8080/"
        },
        "id": "SaElc9b3tcpL",
        "outputId": "fd42e6e1-af3f-437b-fb96-b02cff9aa283"
      },
      "execution_count": 16,
      "outputs": [
        {
          "output_type": "stream",
          "name": "stdout",
          "text": [
            "The knowledge base does not imply the hypothesis.\n"
          ]
        }
      ]
    }
  ]
}