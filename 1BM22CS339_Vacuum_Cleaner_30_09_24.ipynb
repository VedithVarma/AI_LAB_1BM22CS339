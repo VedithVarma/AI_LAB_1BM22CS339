{
  "nbformat": 4,
  "nbformat_minor": 0,
  "metadata": {
    "colab": {
      "provenance": []
    },
    "kernelspec": {
      "name": "python3",
      "display_name": "Python 3"
    },
    "language_info": {
      "name": "python"
    }
  },
  "cells": [
    {
      "cell_type": "code",
      "execution_count": 1,
      "metadata": {
        "colab": {
          "base_uri": "https://localhost:8080/"
        },
        "id": "5x-OK-ekxhWN",
        "outputId": "5984fc56-a991-4ba2-c325-c87ea8bc3e94"
      },
      "outputs": [
        {
          "output_type": "stream",
          "name": "stdout",
          "text": [
            "Location A is Dirty\n",
            "Location B is Clean\n",
            "Vacuum is at location B\n",
            "\n",
            "Location B is clean. Moving to the other location...\n",
            "\n",
            "Location A is Dirty\n",
            "Location B is Clean\n",
            "Vacuum is at location A\n",
            "\n",
            "Cleaning location A\n",
            "\n",
            "Both locations are clean. Task completed!\n"
          ]
        }
      ],
      "source": [
        "#2. Vacuum Cleaner\n",
        "import random\n",
        "environment = {\n",
        "    \"A\": random.choice([\"Dirty\", \"Clean\"]),\n",
        "    \"B\": random.choice([\"Dirty\", \"Clean\"])\n",
        "}\n",
        "\n",
        "vacuum_location = random.choice([\"A\", \"B\"])\n",
        "\n",
        "def display_environment():\n",
        "    print(\"Location A is\", environment['A'])\n",
        "    print(\"Location B is\", environment['B'])\n",
        "    print(\"Vacuum is at location\", vacuum_location)\n",
        "    print()\n",
        "\n",
        "def vacuum_agent():\n",
        "    global vacuum_location\n",
        "\n",
        "    while environment[\"A\"] == \"Dirty\" or environment[\"B\"] == \"Dirty\":\n",
        "        display_environment()\n",
        "        if environment[vacuum_location] == \"Dirty\":\n",
        "            print(\"Cleaning location\", vacuum_location)\n",
        "            print()\n",
        "            environment[vacuum_location] = \"Clean\"\n",
        "        else:\n",
        "            print(\"Location\", vacuum_location, \"is clean. Moving to the other location...\")\n",
        "            print()\n",
        "            vacuum_location = \"A\" if vacuum_location == \"B\" else \"B\"\n",
        "\n",
        "    print(\"Both locations are clean. Task completed!\")\n",
        "\n",
        "vacuum_agent()"
      ]
    }
  ]
}